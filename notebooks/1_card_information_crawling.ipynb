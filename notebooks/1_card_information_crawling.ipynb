{
 "cells": [
  {
   "cell_type": "code",
   "id": "initial_id",
   "metadata": {
    "collapsed": true,
    "ExecuteTime": {
     "end_time": "2024-07-04T15:01:10.948893Z",
     "start_time": "2024-07-04T15:01:10.725800Z"
    }
   },
   "source": [
    "import requests as req\n",
    "import json\n",
    "from tqdm import tqdm"
   ],
   "outputs": [],
   "execution_count": 1
  },
  {
   "metadata": {
    "ExecuteTime": {
     "end_time": "2024-07-04T15:03:04.775022Z",
     "start_time": "2024-07-04T15:01:10.948893Z"
    }
   },
   "cell_type": "code",
   "source": [
    "# 1. 카드 리스트 수집 (신용 카드)\n",
    "url = \"https://api.card-gorilla.com:8080/v1/cards\"\n",
    "params = {\n",
    "    \"p\" : 1,        # 페이지 번호\n",
    "    \"perPage\" : 10, # 페이지당 항목 수\n",
    "    \"cate\" : \"CRD\"  # 카테고리 -> 신용 : CRD, 체크 : CHK\n",
    "}\n",
    "all_cards = []\n",
    "\n",
    "while True :\n",
    "    res = req.get(url, params = params)\n",
    "    if res.status_code != 200 :\n",
    "        print(f\"응답 실패! status code: {res.status_code}\")\n",
    "        break\n",
    "    \n",
    "    data = res.json()\n",
    "    \n",
    "    # 데이터가 비어있으면 종료\n",
    "    if not data[\"data\"] :\n",
    "        break\n",
    "    \n",
    "    all_cards.extend(data[\"data\"])\n",
    "    print(f\"Page {params['p']} 완료\")\n",
    "    params[\"p\"] += 1 # 다음 페이지\n",
    "    \n",
    "# JSON 정보를 파일로 저장\n",
    "with open(\"../data/all_credit.json\", \"w\", encoding = \"utf-8\") as f :\n",
    "    json.dump(all_cards, f, ensure_ascii = False, indent = 4)\n",
    "print(\"완료😇\")"
   ],
   "id": "f4c63d0dc168c94b",
   "outputs": [
    {
     "name": "stdout",
     "output_type": "stream",
     "text": [
      "Page 1 완료\n",
      "Page 2 완료\n",
      "Page 3 완료\n",
      "Page 4 완료\n",
      "Page 5 완료\n",
      "Page 6 완료\n",
      "Page 7 완료\n",
      "Page 8 완료\n",
      "Page 9 완료\n",
      "Page 10 완료\n",
      "Page 11 완료\n",
      "Page 12 완료\n",
      "Page 13 완료\n",
      "Page 14 완료\n",
      "Page 15 완료\n",
      "Page 16 완료\n",
      "Page 17 완료\n",
      "Page 18 완료\n",
      "Page 19 완료\n",
      "Page 20 완료\n",
      "Page 21 완료\n",
      "Page 22 완료\n",
      "Page 23 완료\n",
      "Page 24 완료\n",
      "Page 25 완료\n",
      "Page 26 완료\n",
      "Page 27 완료\n",
      "Page 28 완료\n",
      "Page 29 완료\n",
      "Page 30 완료\n",
      "Page 31 완료\n",
      "Page 32 완료\n",
      "Page 33 완료\n",
      "Page 34 완료\n",
      "Page 35 완료\n",
      "Page 36 완료\n",
      "Page 37 완료\n",
      "Page 38 완료\n",
      "Page 39 완료\n",
      "Page 40 완료\n",
      "Page 41 완료\n",
      "Page 42 완료\n",
      "Page 43 완료\n",
      "Page 44 완료\n",
      "Page 45 완료\n",
      "Page 46 완료\n",
      "Page 47 완료\n",
      "Page 48 완료\n",
      "Page 49 완료\n",
      "Page 50 완료\n",
      "Page 51 완료\n",
      "Page 52 완료\n",
      "Page 53 완료\n",
      "Page 54 완료\n",
      "Page 55 완료\n",
      "Page 56 완료\n",
      "Page 57 완료\n",
      "Page 58 완료\n",
      "Page 59 완료\n",
      "Page 60 완료\n",
      "Page 61 완료\n",
      "Page 62 완료\n",
      "Page 63 완료\n",
      "Page 64 완료\n",
      "Page 65 완료\n",
      "Page 66 완료\n",
      "Page 67 완료\n",
      "Page 68 완료\n",
      "Page 69 완료\n",
      "Page 70 완료\n",
      "Page 71 완료\n",
      "Page 72 완료\n",
      "Page 73 완료\n",
      "Page 74 완료\n",
      "Page 75 완료\n",
      "Page 76 완료\n",
      "Page 77 완료\n",
      "Page 78 완료\n",
      "Page 79 완료\n",
      "Page 80 완료\n",
      "Page 81 완료\n",
      "Page 82 완료\n",
      "Page 83 완료\n",
      "Page 84 완료\n",
      "Page 85 완료\n",
      "Page 86 완료\n",
      "Page 87 완료\n",
      "Page 88 완료\n",
      "Page 89 완료\n",
      "Page 90 완료\n",
      "Page 91 완료\n",
      "Page 92 완료\n",
      "Page 93 완료\n",
      "Page 94 완료\n",
      "Page 95 완료\n",
      "완료😇\n"
     ]
    }
   ],
   "execution_count": 2
  },
  {
   "metadata": {
    "ExecuteTime": {
     "end_time": "2024-07-04T15:03:52.315042Z",
     "start_time": "2024-07-04T15:03:04.775022Z"
    }
   },
   "cell_type": "code",
   "source": [
    "# 1. 카드 리스트 수집 (체크 카드)\n",
    "url = \"https://api.card-gorilla.com:8080/v1/cards\"\n",
    "params = {\n",
    "    \"p\" : 1,        # 페이지 번호\n",
    "    \"perPage\" : 10, # 페이지당 항목 수\n",
    "    \"cate\" : \"CHK\"  # 카테고리 -> 신용 : CRD, 체크 : CHK\n",
    "}\n",
    "all_cards = []\n",
    "\n",
    "while True :\n",
    "    res = req.get(url, params = params)\n",
    "    if res.status_code != 200 :\n",
    "        print(f\"응답 실패! status code: {res.status_code}\")\n",
    "        break\n",
    "    \n",
    "    data = res.json()\n",
    "    \n",
    "    # 데이터가 비어있으면 종료\n",
    "    if not data[\"data\"] :\n",
    "        break\n",
    "    \n",
    "    all_cards.extend(data[\"data\"])\n",
    "    print(f\"Page {params['p']} 완료\")\n",
    "    params[\"p\"] += 1 # 다음 페이지\n",
    "    \n",
    "# JSON 정보를 파일로 저장\n",
    "with open(\"../data/all_chk.json\", \"w\", encoding = \"utf-8\") as f :\n",
    "    json.dump(all_cards, f, ensure_ascii = False, indent = 4)\n",
    "print(\"완료😇\")"
   ],
   "id": "e2f5079bbcc1b41c",
   "outputs": [
    {
     "name": "stdout",
     "output_type": "stream",
     "text": [
      "Page 1 완료\n",
      "Page 2 완료\n",
      "Page 3 완료\n",
      "Page 4 완료\n",
      "Page 5 완료\n",
      "Page 6 완료\n",
      "Page 7 완료\n",
      "Page 8 완료\n",
      "Page 9 완료\n",
      "Page 10 완료\n",
      "Page 11 완료\n",
      "Page 12 완료\n",
      "Page 13 완료\n",
      "Page 14 완료\n",
      "Page 15 완료\n",
      "Page 16 완료\n",
      "Page 17 완료\n",
      "Page 18 완료\n",
      "Page 19 완료\n",
      "Page 20 완료\n",
      "Page 21 완료\n",
      "Page 22 완료\n",
      "Page 23 완료\n",
      "Page 24 완료\n",
      "Page 25 완료\n",
      "Page 26 완료\n",
      "Page 27 완료\n",
      "Page 28 완료\n",
      "Page 29 완료\n",
      "Page 30 완료\n",
      "Page 31 완료\n",
      "Page 32 완료\n",
      "Page 33 완료\n",
      "Page 34 완료\n",
      "Page 35 완료\n",
      "Page 36 완료\n",
      "Page 37 완료\n",
      "Page 38 완료\n",
      "Page 39 완료\n",
      "Page 40 완료\n",
      "Page 41 완료\n",
      "Page 42 완료\n",
      "완료😇\n"
     ]
    }
   ],
   "execution_count": 3
  },
  {
   "metadata": {
    "ExecuteTime": {
     "end_time": "2024-07-04T15:20:32.256651Z",
     "start_time": "2024-07-04T15:03:52.315042Z"
    }
   },
   "cell_type": "code",
   "source": [
    "# 2. 카드 상세정보 수집 (신용 카드)\n",
    "input_path = \"../data/all_credit.json\"\n",
    "output_path = \"../data/detail_credit.json\"\n",
    "\n",
    "# JSON 파일 읽기\n",
    "with open(input_path, \"r\", encoding = \"utf-8\") as f :\n",
    "    data = json.load(f)\n",
    "    \n",
    "# \"cid\" 값을 사용하여 API 호출 후 결과 저장\n",
    "result_data = []\n",
    "\n",
    "for i in tqdm(data) :\n",
    "    cid = i.get(\"cid\")\n",
    "    if cid :\n",
    "        api_url = f\"https://api.card-gorilla.com:8080/v1/cards/{cid}\"\n",
    "        res = req.get(api_url)\n",
    "        if res.status_code == 200 :\n",
    "            result_data.append(res.json())\n",
    "        else :\n",
    "            print(f\"실패 cid : {cid}\")\n",
    "# 결과 데이터를 JSON 파일로 저장\n",
    "with open(output_path, \"w\", encoding = \"utf-8\") as f :\n",
    "    json.dump(result_data, f, ensure_ascii = False, indent = 4)"
   ],
   "id": "1b86a221027a9fb8",
   "outputs": [
    {
     "name": "stderr",
     "output_type": "stream",
     "text": [
      "100%|██████████| 947/947 [16:36<00:00,  1.05s/it]\n"
     ]
    }
   ],
   "execution_count": 4
  },
  {
   "metadata": {
    "ExecuteTime": {
     "end_time": "2024-07-04T15:28:21.211355Z",
     "start_time": "2024-07-04T15:20:32.260535Z"
    }
   },
   "cell_type": "code",
   "source": [
    "# 2. 카드 상세정보 수집 (체크 카드)\n",
    "input_path = \"../data/all_chk.json\"\n",
    "output_path = \"../data/detail_chk.json\"\n",
    "\n",
    "# JSON 파일 읽기\n",
    "with open(input_path, \"r\", encoding = \"utf-8\") as f :\n",
    "    data = json.load(f)\n",
    "    \n",
    "# \"cid\" 값을 사용하여 API 호출 후 결과 저장\n",
    "result_data = []\n",
    "\n",
    "for i in tqdm(data) :\n",
    "    cid = i.get(\"cid\")\n",
    "    if cid :\n",
    "        api_url = f\"https://api.card-gorilla.com:8080/v1/cards/{cid}\"\n",
    "        res = req.get(api_url)\n",
    "        if res.status_code == 200 :\n",
    "            result_data.append(res.json())\n",
    "        else :\n",
    "            print(f\"실패 cid : {cid}\")\n",
    "# 결과 데이터를 JSON 파일로 저장\n",
    "with open(output_path, \"w\", encoding = \"utf-8\") as f :\n",
    "    json.dump(result_data, f, ensure_ascii = False, indent = 4)"
   ],
   "id": "878635ef1f9f5162",
   "outputs": [
    {
     "name": "stderr",
     "output_type": "stream",
     "text": [
      "100%|██████████| 414/414 [07:47<00:00,  1.13s/it]\n"
     ]
    }
   ],
   "execution_count": 5
  }
 ],
 "metadata": {
  "kernelspec": {
   "display_name": "Python 3",
   "language": "python",
   "name": "python3"
  },
  "language_info": {
   "codemirror_mode": {
    "name": "ipython",
    "version": 2
   },
   "file_extension": ".py",
   "mimetype": "text/x-python",
   "name": "python",
   "nbconvert_exporter": "python",
   "pygments_lexer": "ipython2",
   "version": "2.7.6"
  }
 },
 "nbformat": 4,
 "nbformat_minor": 5
}
