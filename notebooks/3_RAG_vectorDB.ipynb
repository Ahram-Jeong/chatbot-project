{
 "cells": [
  {
   "cell_type": "code",
   "id": "initial_id",
   "metadata": {
    "collapsed": true,
    "ExecuteTime": {
     "end_time": "2024-07-23T11:59:29.477517Z",
     "start_time": "2024-07-23T11:58:50.612001Z"
    }
   },
   "source": [
    "from langchain_community.document_loaders.csv_loader import CSVLoader\n",
    "from getpass import getpass\n",
    "from langchain.text_splitter import RecursiveCharacterTextSplitter\n",
    "# RetrievalQA : LangChain에서 지원하는 질의 응답 수행 클래스\n",
    "from langchain.chains import RetrievalQA\n",
    "# ChatOpenAI : LangChain에서 지원하는 OpenAI 대화 전용 모델\n",
    "# 기존의 completion 객체는 입력 형태가 맞지 않아 RetrievalQA에 직접 활용할 수 없음\n",
    "from langchain.chat_models import ChatOpenAI\n",
    "# CohereRerank : LangChain에서 지원하는 Reranking 구현 클래스\n",
    "from langchain.retrievers.document_compressors import CohereRerank\n",
    "# ContextualCompressionRetriever : 검색 된 문서의 문맥을 압축하여 보다 집중적이고 관련성 높은 정보를 제공하는 검색기 (Rerank 객체와 결합 가능)\n",
    "# 문맥 압축은 가장 관련성이 높은 부분을 선택하고 덜 중요한 정보는 삭제하여 핵심만 남겨두는 것\n",
    "from langchain.retrievers import ContextualCompressionRetriever\n",
    "# LangChain과 연동하여 Chroma DB의 기능을 약식으로 구현할 수 있게 해주는 Chroma 클래스\n",
    "from langchain.vectorstores import Chroma\n",
    "# OpenAI 지원 사전 학습된 임베딩 모델 임포트\n",
    "from langchain.embeddings.openai import OpenAIEmbeddings\n",
    "\n",
    "# OpenAI 객체 생성\n",
    "MY_API_KEY = getpass(\"OpenAI API Key >> \")\n",
    "\n",
    "loaders = [CSVLoader(file_path = \"../data/credit_result.csv\", encoding = \"utf-8\"), CSVLoader(file_path = \"../data/chk_result.csv\", encoding = \"utf-8\")]\n",
    "\n",
    "csv_splitter = RecursiveCharacterTextSplitter(\n",
    "    # Document 객체를 하나의 청크로 유지하기 위해  \"chunk_size\"를 따로 지정하지 않음\n",
    "    # chunk_overlap = 50 : 카드 정보 데이터에서 혜택이 중복될 수 있으므로, 50 정도가 청크 간의 연속성을 유지하면서 중복을 적절히 처리하는 데 적합하다고 판단\n",
    "    chunk_overlap = 50\n",
    ")\n",
    "\n",
    "my_chunks = []\n",
    "for loader in loaders:\n",
    "    # 2개의 파일들로부터 추출 된 각각의 document 객체들을 하나의 리스트에 병합\n",
    "    my_chunks.extend(loader.load_and_split(text_splitter = csv_splitter))\n",
    "    \n",
    "print(len(my_chunks))\n",
    "print(my_chunks[:3])\n",
    "\n",
    "# OpenAI에서 지원해 주는 사전 학습된 임베딩 모델을 적용한 객체 생성\n",
    "my_embedding = OpenAIEmbeddings(\n",
    "    model = \"text-embedding-ada-002\",\n",
    "    api_key = MY_API_KEY\n",
    ")\n",
    "\n",
    "# DB 경로 설정\n",
    "my_directory = \"../data/VectorStores/\"\n",
    "\n",
    "# from_documents() : 청킹된 문서(documents 객체)의 정보 및 임베딩, 경로 정보로 Chroma DB 생성\n",
    "vectordb = Chroma.from_documents(\n",
    "    documents = my_chunks,\n",
    "    embedding = my_embedding,\n",
    "    persist_directory = my_directory\n",
    ")\n",
    "\n",
    "# as_retriever() : 정의된 벡터 DB를 정보 검색기로 사용할 수 있게 해주는 함수 (k = 출력 청크 갯수)\n",
    "my_retriever = vectordb.as_retriever(search_kwargs = {\"k\" : 10})\n",
    "\n",
    "chat_model = ChatOpenAI(\n",
    "    model_name = \"gpt-3.5-turbo\",\n",
    "    openai_api_key = MY_API_KEY\n",
    ")\n",
    "\n",
    "# Reranking 수행\n",
    "COHERE_API_KEY = getpass(\"Cohere API KEY >> \")\n",
    "\n",
    "# CohereRerank 객체 생성\n",
    "my_rerank = CohereRerank(\n",
    "    cohere_api_key = COHERE_API_KEY,\n",
    ")\n",
    "\n",
    "# 검색 시 객체 설정\n",
    "compression_retriever = ContextualCompressionRetriever(\n",
    "    base_compressor = my_rerank,\n",
    "    base_retriever = my_retriever\n",
    ")\n",
    "\n",
    "qna = RetrievalQA.from_chain_type(\n",
    "    llm = chat_model,\n",
    "    # chain_type = 답변을 위해 청크들이 결합되는 타입을 지정\n",
    "    # 1. stuff : 검색된 청크들의 내용을 간단히 결합하여 응답 생성\n",
    "    # 2. map_reduce : 청크들을 각각 처리한 후 개별 결과를 결합하여 응답 생성 (큰 규모 데이터)\n",
    "    # 3. refine : 이전 청크의 처리 결과를 다음 청크에 반영하고 지속적으로 개선하여 응답 생성\n",
    "    chain_type = \"refine\",\n",
    "    retriever = compression_retriever # rerank 기능 포함\n",
    ")"
   ],
   "outputs": [
    {
     "name": "stdout",
     "output_type": "stream",
     "text": [
      "1361\n",
      "[Document(page_content=\"name: 신한카드 Mr.Life\\ncard_company: 신한카드\\nbenefit: ['월납요금(공과금) 10% 할인서비스', '편의점 10% 할인', '병원/약국업종 10% 할인', '세탁소 업종 10% 할인', '온라인 쇼핑 10% 할인 ', '택시 10% 할인 ', '식음료 10% 할인', '3대 마트 10% 할인', '4대 정유사 리터당 60원 할인', ' 인테이크몰 20% 할인']\", metadata={'source': '../data/credit_result.csv', 'row': 0}), Document(page_content=\"name: 삼성카드 & MILEAGE PLATINUM (스카이패스)\\ncard_company: 삼성카드\\nbenefit: ['모든 가맹점 이용금액 1,000원당 1마일리지 기본적립', '백화점 이용금액 1,000원당 2마일리지 특별적립', '주유 이용금액 1,000원당 2마일리지 특별적립', '커피 이용금액 1,000원당 2마일리지 특별적립', '편의점 이용금액 1,000원당 2마일리지 특별적립', '택시 이용금액 1,000원당 2마일리지 특별적립', '인천공항 라운지 본인 무료 이용', '인천공항 발렛파킹 무료 이용', '공항 커피 서비스', '아멕스 PLATINUM 등급 서비스', '여행의 설레임을 담은 디자인으로 리뉴얼 된 삼성카드 & MILEAGE PLATINUM']\", metadata={'source': '../data/credit_result.csv', 'row': 1}), Document(page_content=\"name: KB국민 My WE:SH 카드\\ncard_company: KB국민카드\\nbenefit: ['[나한테 진심 서비스] KB Pay 10% 할인', '[나한테 진심 서비스] 음식점, 편의점 10% 할인', '[나한테 진심 서비스] 이동통신요금 10% 할인', '[나한테 진심 서비스] OTT 30% 할인', '[더욱 진심 서비스] 먹는데 진심-배달/커피 5% 할인', '[더욱 진심 서비스] 노는데 진심-택시/커피 5%, 영화관 30% 할인', '[더욱 진심 서비스] 관리에 진심-미용실, 스포츠, 온라인서점, 올리브영 5% 할인', 'WE:SH 서비스', '카드 플레이트 선택 가능']\", metadata={'source': '../data/credit_result.csv', 'row': 2})]\n"
     ]
    },
    {
     "name": "stderr",
     "output_type": "stream",
     "text": [
      "C:\\Dev\\tools\\Anaconda3\\Lib\\site-packages\\langchain_core\\_api\\deprecation.py:139: LangChainDeprecationWarning: The class `OpenAIEmbeddings` was deprecated in LangChain 0.0.9 and will be removed in 0.3.0. An updated version of the class exists in the langchain-openai package and should be used instead. To use it run `pip install -U langchain-openai` and import as `from langchain_openai import OpenAIEmbeddings`.\n",
      "  warn_deprecated(\n",
      "C:\\Dev\\tools\\Anaconda3\\Lib\\site-packages\\langchain_core\\_api\\deprecation.py:139: LangChainDeprecationWarning: The class `ChatOpenAI` was deprecated in LangChain 0.0.10 and will be removed in 0.3.0. An updated version of the class exists in the langchain-openai package and should be used instead. To use it run `pip install -U langchain-openai` and import as `from langchain_openai import ChatOpenAI`.\n",
      "  warn_deprecated(\n",
      "C:\\Dev\\tools\\Anaconda3\\Lib\\site-packages\\langchain_core\\_api\\deprecation.py:139: LangChainDeprecationWarning: The class `CohereRerank` was deprecated in LangChain 0.0.30 and will be removed in 0.3.0. An updated version of the class exists in the langchain-cohere package and should be used instead. To use it run `pip install -U langchain-cohere` and import as `from langchain_cohere import CohereRerank`.\n",
      "  warn_deprecated(\n"
     ]
    }
   ],
   "execution_count": 1
  },
  {
   "metadata": {
    "ExecuteTime": {
     "end_time": "2024-07-23T11:59:35.053283Z",
     "start_time": "2024-07-23T11:59:29.477517Z"
    }
   },
   "cell_type": "code",
   "source": [
    "# 첫 번째 프롬프트\n",
    "prompt_1shot_persona1 = \"\"\"\n",
    "당신은 카드 설계사입니다. 사용자 정보들이 주어졌을 때 최적의 카드를 추천하는 것이 당신의 목표입니다.\n",
    "DB에 정의된 필드는 다음과 같습니다.\n",
    "name: 카드 명\n",
    "card_company: 카드사 명\n",
    "benefit: 혜택\n",
    "\n",
    "다음은 당신이 참고할 예시 정보와 그에 대한 카드 추천 예시 입니다.\n",
    "\n",
    "예시 정보:\n",
    "대중교통(지하철, 버스, 택시) 출퇴근\n",
    "아침식사는 편의점, 점심은 음식점, 저녁은 외식(레스토랑)\n",
    "운동을 즐겨함, 헬스장을 다님\n",
    "월 평균 통신비: 8만원\n",
    "주말에는 주로 친구들과 맛집 탐방을 즐김\n",
    "월 평균 쇼핑비: 20만원\n",
    "\n",
    "예시 결과:\n",
    "name: **XX 카드**,\n",
    "card_company: **XX 은행**,\n",
    "benefit: **대중교통(버스, 지하철) 이용 시 10% 청구할인, 통신사 요금 결제 시 SKT, KT Olleh, LG U+ 10% 청구할인** 등의 혜택이 있습니다.\n",
    "\n",
    "아래 정보에 대해 카드를 한국어로 추천해주세요:\n",
    "생활 패턴:\n",
    "평일에 대중교통(지하철)으로 출퇴근\n",
    "출퇴근 시간에 맞춰 아침 일찍 일어나고, 저녁에는 헬스장을 다님\n",
    "소비 패턴:\n",
    "월 평균 통신비: 8만원\n",
    "주말에는 주로 친구들과 맛집 탐방을 즐김\n",
    "간혹 해외여행을 즐기며, 여행 경비는 주로 카드로 결제\n",
    "월 평균 쇼핑비: 20만원\n",
    "니즈:\n",
    "교통비 할인 혜택\n",
    "맛집 및 외식 할인 혜택\n",
    "통신비 할인 혜택\n",
    "\"\"\"\n",
    "\n",
    "print(qna.run(prompt_1shot_persona1))"
   ],
   "id": "4e5db187d16d79e6",
   "outputs": [
    {
     "name": "stderr",
     "output_type": "stream",
     "text": [
      "C:\\Dev\\tools\\Anaconda3\\Lib\\site-packages\\langchain_core\\_api\\deprecation.py:139: LangChainDeprecationWarning: The method `Chain.run` was deprecated in langchain 0.1.0 and will be removed in 0.3.0. Use invoke instead.\n",
      "  warn_deprecated(\n"
     ]
    },
    {
     "name": "stdout",
     "output_type": "stream",
     "text": [
      "Based on the refined context provided, the recommendation for the **DA@카드의정석** from **우리카드** remains a suitable choice. This card offers a wide range of benefits including discounts on various categories such as dining, transportation, shopping, and communication expenses. Additionally, the card provides lounge access at major airports and discounts on overseas transactions, catering to the individual's occasional interest in international travel. The card's flexibility in offering discounts at a variety of establishments aligns well with the user's lifestyle and spending patterns.\n"
     ]
    }
   ],
   "execution_count": 2
  },
  {
   "metadata": {
    "ExecuteTime": {
     "end_time": "2024-07-23T11:59:49.856642Z",
     "start_time": "2024-07-23T11:59:35.053283Z"
    }
   },
   "cell_type": "code",
   "source": [
    "# 두 번째 프롬프트\n",
    "prompt_1shot_persona2 = \"\"\"\n",
    "당신은 카드 설계사입니다. 사용자 정보들이 주어졌을 때 최적의 카드를 추천하는 것이 당신의 목표입니다.\n",
    "DB에 정의된 필드는 다음과 같습니다.\n",
    "name: 카드 명\n",
    "card_company: 카드사 명\n",
    "benefit: 혜택\n",
    "\n",
    "다음은 당신이 참고할 예시 정보와 그에 대한 카드 추천 예시 입니다.\n",
    "\n",
    "예시 정보:\n",
    "대중교통(지하철, 버스, 택시) 출퇴근\n",
    "아침식사는 편의점, 점심은 음식점, 저녁은 외식(레스토랑)\n",
    "운동을 즐겨함, 헬스장을 다님\n",
    "월 평균 통신비: 8만원\n",
    "주말에는 주로 친구들과 맛집 탐방을 즐김\n",
    "월 평균 쇼핑비: 20만원\n",
    "\n",
    "예시 결과:\n",
    "name: **XX 카드**,\n",
    "card_company: **XX 은행**,\n",
    "benefit: **대중교통(버스, 지하철) 이용 시 10% 청구할인, 통신사 요금 결제 시 SKT, KT Olleh, LG U+ 10% 청구할인** 등의 혜택이 있습니다.\n",
    "\n",
    "아래 정보에 대해 카드를 한국어로 추천해주세요:\n",
    "생활 패턴:\n",
    "평일에는 주로 아이들 학교 보내고, 집안일을 함\n",
    "주말에는 가족들과 함께 시간을 보냄\n",
    "소비 패턴:\n",
    "월 평균 식료품비: 50만원\n",
    "아이들 학원비 및 교육비: 30만원\n",
    "패밀리 레스토랑 및 가족 외식 빈도 높음\n",
    "생활용품 및 가전제품 쇼핑 빈도 높음\n",
    "니즈:\n",
    "식료품 할인 혜택\n",
    "학원비 및 교육비 할인 혜택\n",
    "패밀리 레스토랑 할인 혜택\n",
    "생활용품 및 가전제품 구매 할인 혜택\n",
    "\"\"\"\n",
    "\n",
    "print(qna.run(prompt_1shot_persona2))"
   ],
   "id": "b332ef08902cf05b",
   "outputs": [
    {
     "name": "stdout",
     "output_type": "stream",
     "text": [
      "**다담카드**\n",
      "\n",
      "**KB국민카드**\n",
      "\n",
      "- **대중교통(버스, 지하철) 이용 시 10% 청구할인**\n",
      "- **통신사 요금 결제 시 SKT, KT Olleh, LG U+ 10% 청구할인**\n",
      "- **SK주유소(충전소) 리터당 60원 청구할인**\n",
      "- **인터파크 영화 예매 시 1매당 3,500원 청구할인**\n",
      "- **롯데월드, 에버랜드, 캐리비안베이 30~50% 할인**\n",
      "- **해외가맹점 5% 할인캐시백**\n",
      "- **선택 적립 서비스팩 - 생활/교육/쇼핑/직장인/레저팩 중 택 1**\n",
      "- **연간 이용에 따른 다담리워드 서비스, 함께하는 기부 서비스**\n",
      "\n",
      "**다담카드**는 생활용품 및 가전제품 쇼핑, 아이들 학원비 및 교육비 지출, 가족 외식 등 다양한 소비 패턴에 맞춰 다양한 할인 혜택을 제공하여 가족 모두가 편리하게 혜택을 누릴 수 있는 카드입니다. 추가로 SK주유소 할인, 인터파크 영화 예매 할인, 롯데월드, 에버랜드, 캐리비안베이 할인, 해외가맹점 할인캐시백 등의 다양한 혜택이 포함되어 있어 가족 모두가 즐거운 시간을 보내며 혜택도 누릴 수 있습니다. 선택 적립 서비스팩을 통해 다양한 혜택 중 선택할 수 있고, 연간 이용에 따른 리워드 서비스와 함께하는 기부 서비스도 함께 제공되어 가치 있는 카드입니다.\n"
     ]
    }
   ],
   "execution_count": 3
  },
  {
   "metadata": {
    "ExecuteTime": {
     "end_time": "2024-07-23T11:59:57.861857Z",
     "start_time": "2024-07-23T11:59:49.856642Z"
    }
   },
   "cell_type": "code",
   "source": [
    "# 세 번째 프롬프트\n",
    "prompt_1shot_persona3 = \"\"\"\n",
    "당신은 카드 설계사입니다. 사용자 정보들이 주어졌을 때 최적의 카드를 추천하는 것이 당신의 목표입니다.\n",
    "DB에 정의된 필드는 다음과 같습니다.\n",
    "name: 카드 명\n",
    "card_company: 카드사 명\n",
    "benefit: 혜택\n",
    "\n",
    "다음은 당신이 참고할 예시 정보와 그에 대한 카드 추천 예시 입니다.\n",
    "\n",
    "예시 정보:\n",
    "대중교통(지하철, 버스, 택시) 출퇴근\n",
    "아침식사는 편의점, 점심은 음식점, 저녁은 외식(레스토랑)\n",
    "운동을 즐겨함, 헬스장을 다님\n",
    "월 평균 통신비: 8만원\n",
    "주말에는 주로 친구들과 맛집 탐방을 즐김\n",
    "월 평균 쇼핑비: 20만원\n",
    "예시 결과:\n",
    "name: **XX 카드**,\n",
    "card_company: **XX 은행**,\n",
    "benefit: **대중교통(버스, 지하철) 이용 시 10% 청구할인, 통신사 요금 결제 시 SKT, KT Olleh, LG U+ 10% 청구할인** 등의 혜택이 있습니다.\n",
    "\n",
    "아래 정보에 대해 카드를 한국어로 추천해주세요:\n",
    "생활 패턴:\n",
    "평일에는 주로 학교 수업과 과제, 동아리 활동\n",
    "주말에는 친구들과 여가 시간을 보냄\n",
    "아르바이트를 하며 생활비를 충당\n",
    "소비 패턴:\n",
    "월 평균 교통비: 5만원\n",
    "편의점 및 카페 이용 빈도 높음\n",
    "온라인 쇼핑을 자주 함\n",
    "취미 생활(영화, 공연 관람 등)에 지출\n",
    "니즈:\n",
    "교통비 할인 혜택\n",
    "편의점 및 카페 할인 혜택\n",
    "온라인 쇼핑 할인 혜택\n",
    "취미 생활 관련 할인 혜택\n",
    "\"\"\"\n",
    "\n",
    "print(qna.run(prompt_1shot_persona3))"
   ],
   "id": "9058a4faa6064704",
   "outputs": [
    {
     "name": "stdout",
     "output_type": "stream",
     "text": [
      "**쏘카카드**,\n",
      "\n",
      "**현대카드**,\n",
      "\n",
      "**생활패턴**에 맞춰 **교통비 할인, 편의점 및 카페 할인, 온라인 쇼핑 할인, 취미 생활 관련 할인** 혜택이 있는 **쏘카카드**를 추천드립니다. **쏘카 앱 이용 시 최대 3% 크레딧 적립, 특별가맹점 최대 3% 크레딧 적립 (외식, 커피, 영화, 호텔, 프리미엄아웃렛, 대중교통), 쏘카 앱, 특별가맹점 외 가맹점 1% 적립** 등의 혜택이 있습니다.\n"
     ]
    }
   ],
   "execution_count": 4
  }
 ],
 "metadata": {
  "kernelspec": {
   "display_name": "Python 3",
   "language": "python",
   "name": "python3"
  },
  "language_info": {
   "codemirror_mode": {
    "name": "ipython",
    "version": 2
   },
   "file_extension": ".py",
   "mimetype": "text/x-python",
   "name": "python",
   "nbconvert_exporter": "python",
   "pygments_lexer": "ipython2",
   "version": "2.7.6"
  }
 },
 "nbformat": 4,
 "nbformat_minor": 5
}
