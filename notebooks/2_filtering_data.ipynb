{
 "cells": [
  {
   "metadata": {
    "ExecuteTime": {
     "end_time": "2024-07-23T05:22:10.124282Z",
     "start_time": "2024-07-23T05:22:06.382959Z"
    }
   },
   "cell_type": "code",
   "source": [
    "import json\n",
    "import pandas as pd\n",
    "\n",
    "# 신용카드 데이터 필터링\n",
    "with open(\"../data/detail_credit.json\", \"r\", encoding = \"utf-8\") as f :\n",
    "    detail_credit = json.load(f)\n",
    "\n",
    "# 카드 이름 추출\n",
    "names = [item[\"name\"] for item in detail_credit]\n",
    "\n",
    "# 카드사 이름 추출\n",
    "card_company = [item[\"corp\"][\"name\"] for item in detail_credit]\n",
    "\n",
    "# 카드 혜택 추출\n",
    "card_benefits = []\n",
    "for item in detail_credit :\n",
    "    if \"key_benefit\" in item and isinstance(item[\"key_benefit\"], list):\n",
    "        card_benefit = []\n",
    "        for benefit in item[\"key_benefit\"]:\n",
    "            if \"comment\" in benefit and \"확인하세요\" not in benefit[\"comment\"] and \"확인해주세요\" not in benefit[\"comment\"] and \"알아두세요\" not in benefit[\"comment\"] :\n",
    "                card_benefit.append(benefit[\"comment\"])\n",
    "        card_benefits.append(card_benefit)\n",
    "       \n",
    "# 저장\n",
    "df = pd.DataFrame({\n",
    "    \"name\" : names,\n",
    "    \"card_company\" : card_company,\n",
    "    \"benefit\" : card_benefits\n",
    " })\n",
    " \n",
    "df.to_csv(\"../data/credit_result.csv\", encoding = \"utf-8\", index = False)"
   ],
   "id": "ed5686aefc0afff4",
   "outputs": [],
   "execution_count": 1
  },
  {
   "metadata": {
    "ExecuteTime": {
     "end_time": "2024-07-23T05:22:10.410272Z",
     "start_time": "2024-07-23T05:22:10.124282Z"
    }
   },
   "cell_type": "code",
   "source": [
    "# 체크카드 데이터 필터링\n",
    "with open(\"../data/detail_chk.json\", \"r\", encoding = \"utf-8\") as f :\n",
    "    detail_chk = json.load(f)\n",
    "\n",
    "# 카드 이름 추출\n",
    "names = [item[\"name\"] for item in detail_chk]\n",
    "\n",
    "# 카드사 이름 추출\n",
    "card_company = [item[\"corp\"][\"name\"] for item in detail_chk]\n",
    "\n",
    "# 카드 혜택 추출\n",
    "card_benefits = []\n",
    "for item in detail_chk :\n",
    "    if \"key_benefit\" in item and isinstance(item[\"key_benefit\"], list):\n",
    "        card_benefit = []\n",
    "        for benefit in item[\"key_benefit\"] :\n",
    "            if \"comment\" in benefit and \"확인하세요\" not in benefit[\"comment\"] and \"확인해주세요\" not in benefit[\"comment\"] and \"알아두세요\" not in benefit[\"comment\"] :\n",
    "                card_benefit.append(benefit[\"comment\"])\n",
    "        card_benefits.append(card_benefit)\n",
    "       \n",
    "# 저장 \n",
    "df = pd.DataFrame({\n",
    "    \"name\" : names,\n",
    "    \"card_company\" : card_company,\n",
    "    \"benefit\" : card_benefits\n",
    " })\n",
    " \n",
    "df.to_csv(\"../data/chk_result.csv\", encoding = \"utf-8\", index = False)"
   ],
   "id": "b307797ada96d571",
   "outputs": [],
   "execution_count": 2
  }
 ],
 "metadata": {
  "kernelspec": {
   "display_name": "Python 3",
   "language": "python",
   "name": "python3"
  },
  "language_info": {
   "codemirror_mode": {
    "name": "ipython",
    "version": 2
   },
   "file_extension": ".py",
   "mimetype": "text/x-python",
   "name": "python",
   "nbconvert_exporter": "python",
   "pygments_lexer": "ipython2",
   "version": "2.7.6"
  }
 },
 "nbformat": 4,
 "nbformat_minor": 5
}
